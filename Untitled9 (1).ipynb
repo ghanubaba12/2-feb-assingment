{
 "cells": [
  {
   "cell_type": "code",
   "execution_count": null,
   "id": "95978f33-9b76-46a3-b3fb-b526983bc97c",
   "metadata": {},
   "outputs": [],
   "source": [
    "\"\"\"Q1. Explain with an example each when to use a for loop and a while loop.\"\"\""
   ]
  },
  {
   "cell_type": "code",
   "execution_count": 1,
   "id": "ad6a029f-e989-463e-96a7-c0c7740a774a",
   "metadata": {},
   "outputs": [],
   "source": [
    "a=[1,2,3,46,464,4]"
   ]
  },
  {
   "cell_type": "code",
   "execution_count": 2,
   "id": "3156b87e-a396-4148-a479-c45735f3feb4",
   "metadata": {},
   "outputs": [
    {
     "name": "stdout",
     "output_type": "stream",
     "text": [
      "1\n",
      "2\n",
      "3\n",
      "46\n",
      "464\n",
      "4\n"
     ]
    }
   ],
   "source": [
    "for i in a:\n",
    "    print(i)"
   ]
  },
  {
   "cell_type": "code",
   "execution_count": 3,
   "id": "0c7f1232-c38b-406e-81f9-3c9252e46bff",
   "metadata": {},
   "outputs": [
    {
     "name": "stdout",
     "output_type": "stream",
     "text": [
      "1\n",
      "2\n",
      "3\n",
      "4\n",
      "5\n",
      "6\n",
      "7\n",
      "8\n",
      "9\n",
      "10\n"
     ]
    }
   ],
   "source": [
    "a=1\n",
    "while a<=10:\n",
    "    print(a)\n",
    "    \n",
    "    a=a+1"
   ]
  },
  {
   "cell_type": "code",
   "execution_count": 4,
   "id": "e750f390-6899-459f-89e7-ec6036119158",
   "metadata": {},
   "outputs": [
    {
     "name": "stdin",
     "output_type": "stream",
     "text": [
      " 310\n"
     ]
    },
    {
     "name": "stdout",
     "output_type": "stream",
     "text": [
      "2250.0\n"
     ]
    }
   ],
   "source": [
    "n=int(input())\n",
    "bill=0\n",
    "if n>300:\n",
    "    x=n-300#calculate units more than 300\n",
    "    bill=bill+x*20\n",
    "    bill=bill+100*10+100*6+100*4.5\n",
    "    print(bill)\n",
    "elif n>200:\n",
    "    x=n-200\n",
    "    bill=bill+x*10\n",
    "    bill=bill+100*6+100*4.5\n",
    "    print(bill)\n",
    "elif n>100:\n",
    "    x=n-100\n",
    "    bill=bill+x*6\n",
    "    bill=bill+100*4.5\n",
    "    print(bill)\n",
    "else:\n",
    "    bill=bill+n*4.5\n",
    "    print(bill)"
   ]
  },
  {
   "cell_type": "code",
   "execution_count": 5,
   "id": "b775d556-ff09-40eb-b506-6524cd7e75c4",
   "metadata": {},
   "outputs": [
    {
     "name": "stdout",
     "output_type": "stream",
     "text": [
      "15\n"
     ]
    }
   ],
   "source": [
    "s=\"I want a program to become a data scientist\";\n",
    "count=0\n",
    "for x in s:\n",
    "    if x==\"a\" or  x==\"e\" or  x==\"i\" or  x==\"o\" or  x==\"u\":\n",
    "        count=count+1\n",
    "    if x==\"A\" or  x==\"E\" or  x==\"I\" or  x==\"O\" or  x==\"U\":\n",
    "        count=count+1\n",
    "print(count)"
   ]
  },
  {
   "cell_type": "code",
   "execution_count": 6,
   "id": "9dfb45a0-299b-4ed3-974b-7de82bcabfd5",
   "metadata": {},
   "outputs": [
    {
     "name": "stdout",
     "output_type": "stream",
     "text": [
      "[2, 4, 5, 6, 8, 10, 12, 14, 15, 16, 18, 20, 22, 24, 25, 26, 28, 30, 32, 34, 35, 36, 38, 40, 42, 44, 45, 46, 48, 50, 52, 54, 55, 56, 58, 60, 62, 64, 65, 66, 68, 70, 72, 74, 75, 76, 78, 80, 82, 84, 85, 86, 88, 90, 92, 94, 95, 96, 98, 100]\n"
     ]
    }
   ],
   "source": [
    "myList=[]\n",
    "for a in range(1,101):\n",
    "    if (a*a*a)%4==0 or (a*a*a)%5==0:\n",
    "        myList.append(a)\n",
    "print(myList)"
   ]
  },
  {
   "cell_type": "code",
   "execution_count": null,
   "id": "0dcef524-f0b9-4bd0-8c6d-df1e41dea229",
   "metadata": {},
   "outputs": [],
   "source": []
  }
 ],
 "metadata": {
  "kernelspec": {
   "display_name": "Python 3 (ipykernel)",
   "language": "python",
   "name": "python3"
  },
  "language_info": {
   "codemirror_mode": {
    "name": "ipython",
    "version": 3
   },
   "file_extension": ".py",
   "mimetype": "text/x-python",
   "name": "python",
   "nbconvert_exporter": "python",
   "pygments_lexer": "ipython3",
   "version": "3.10.8"
  }
 },
 "nbformat": 4,
 "nbformat_minor": 5
}
